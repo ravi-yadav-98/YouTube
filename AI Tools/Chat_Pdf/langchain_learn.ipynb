{
 "cells": [
  {
   "cell_type": "code",
   "execution_count": 1,
   "id": "b8af9446-a2c8-486c-8357-9b2a41b3c4a7",
   "metadata": {},
   "outputs": [],
   "source": [
    "#import modules\n",
    "from langchain.text_splitter import CharacterTextSplitter\n",
    "from langchain.text_splitter import RecursiveCharacterTextSplitter\n",
    "from langchain.prompts import PromptTemplate\n",
    "from langchain.chains import LLMChain\n",
    "from langchain.document_loaders import PyPDFLoader\n",
    "from langchain.document_loaders import TextLoader"
   ]
  },
  {
   "cell_type": "code",
   "execution_count": 2,
   "id": "c4273293-5b19-4314-b35a-48ceb8ae32c6",
   "metadata": {},
   "outputs": [],
   "source": [
    "file = \"LLM_Survey_V2.pdf\""
   ]
  },
  {
   "cell_type": "code",
   "execution_count": 10,
   "id": "58848e85-857f-4040-b231-e28208454f0a",
   "metadata": {},
   "outputs": [],
   "source": [
    "#load file\n",
    "loader = PyPDFLoader(file)\n",
    "documents = loader.load()  #list of document pages"
   ]
  },
  {
   "cell_type": "code",
   "execution_count": 11,
   "id": "f1fd100c-d27f-4c0c-ad54-e43e30c0404e",
   "metadata": {},
   "outputs": [
    {
     "data": {
      "text/plain": [
       "list"
      ]
     },
     "execution_count": 11,
     "metadata": {},
     "output_type": "execute_result"
    }
   ],
   "source": [
    "type(documents)"
   ]
  },
  {
   "cell_type": "code",
   "execution_count": 12,
   "id": "3f5aaf3d-12eb-4b42-b526-2ba282577c79",
   "metadata": {},
   "outputs": [
    {
     "data": {
      "text/plain": [
       "31"
      ]
     },
     "execution_count": 12,
     "metadata": {},
     "output_type": "execute_result"
    }
   ],
   "source": [
    "len(documents)"
   ]
  },
  {
   "cell_type": "code",
   "execution_count": 16,
   "id": "3745de8c-99d4-4186-92b7-d836f3066702",
   "metadata": {},
   "outputs": [],
   "source": [
    "#read a document\n",
    "# documents[2]"
   ]
  },
  {
   "cell_type": "code",
   "execution_count": 37,
   "id": "97bc0449-d39c-46d8-9d35-17c33a578f67",
   "metadata": {},
   "outputs": [],
   "source": [
    "#Split the documets\n",
    "def split_docs(documents, chunk_size=100, chunk_overlap =20):\n",
    "    print(chunk_size)\n",
    "    text_splitter = CharacterTextSplitter(chunk_size=chunk_size, chunk_overlap=chunk_overlap, length_function = len)\n",
    "    docs = text_splitter.split_documents(documents)\n",
    "    return docs"
   ]
  },
  {
   "cell_type": "code",
   "execution_count": 41,
   "id": "cc8df988-55ca-4cb7-a30c-56e7e58a79ca",
   "metadata": {},
   "outputs": [
    {
     "name": "stdout",
     "output_type": "stream",
     "text": [
      "100\n"
     ]
    }
   ],
   "source": [
    "chunks =  split_docs(documents)"
   ]
  },
  {
   "cell_type": "code",
   "execution_count": 47,
   "id": "4f9bc8e5-a682-4fa0-8249-4005403ab235",
   "metadata": {},
   "outputs": [
    {
     "data": {
      "text/plain": [
       "Document(page_content='See discussions, st ats, and author pr ofiles f or this public ation at : https://www .researchgate.ne t/public ation/372278221\\nLarge Language Models: A Comprehensive Su rvey of its Applications,\\nChallenges, Limitations, and Futu re Prospects\\nPreprint  · July 2023\\nDOI: 10.36227/ techrxiv .23589741\\nCITATIONS\\n0READS\\n355\\n11 author s, including:\\nSome o f the author s of this public ation ar e also w orking on these r elat ed pr ojects:\\nMachine L earning Me thodologies f or Optic al Communic ation Syst ems View pr oject\\nAfrican V ultures Optimiz ation Alg orithm: A Ne w Nat ure-Inspir ed Me taheuristic Alg orithm f or Glob al Optimiz ation Pr oblems  View pr oject\\nMuhammad U sman Hadi\\nUlst er Univ ersity\\n88 PUBLICA TIONS \\xa0\\xa0\\xa0778 CITATIONS \\xa0\\xa0\\xa0\\nSEE PROFILE\\nQasem Al- Tashi\\nUniv ersity of T exas MD Ander son Canc er Cent er\\n46 PUBLICA TIONS \\xa0\\xa0\\xa01,231  CITATIONS \\xa0\\xa0\\xa0\\nSEE PROFILE\\nRizw an Qur eshi\\nUniv ersity of T exas MD Ander son Canc er Cent er\\n77 PUBLICA TIONS \\xa0\\xa0\\xa0321 CITATIONS \\xa0\\xa0\\xa0\\nSEE PROFILE\\nAll c ontent f ollo wing this p age was uplo aded b y Rizw an Qur eshi  on 19 July 2023.\\nThe user has r equest ed enhanc ement of the do wnlo aded file.', metadata={'source': 'LLM_Survey_V2.pdf', 'page': 0})"
      ]
     },
     "execution_count": 47,
     "metadata": {},
     "output_type": "execute_result"
    }
   ],
   "source": [
    "chunks[0]"
   ]
  },
  {
   "cell_type": "code",
   "execution_count": null,
   "id": "ed72073e-9c3f-4d0f-b8bf-a6b88d1dfc35",
   "metadata": {},
   "outputs": [],
   "source": []
  }
 ],
 "metadata": {
  "kernelspec": {
   "display_name": "Python 3 (ipykernel)",
   "language": "python",
   "name": "python3"
  },
  "language_info": {
   "codemirror_mode": {
    "name": "ipython",
    "version": 3
   },
   "file_extension": ".py",
   "mimetype": "text/x-python",
   "name": "python",
   "nbconvert_exporter": "python",
   "pygments_lexer": "ipython3",
   "version": "3.8.7rc1"
  }
 },
 "nbformat": 4,
 "nbformat_minor": 5
}
